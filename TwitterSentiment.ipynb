{
 "cells": [
  {
   "cell_type": "markdown",
   "metadata": {},
   "source": [
    "# Twitter sentiment analysis using textblob classifier\n",
    "https://dev.to/rodolfoferro/sentiment-analysis-on-trumpss-tweets-using-python-"
   ]
  },
  {
   "cell_type": "code",
   "execution_count": 1,
   "metadata": {},
   "outputs": [],
   "source": [
    "#Importing our libraries\n",
    "#General\n",
    "import pandas as pd    #To handle data\n",
    "import numpy as np     #for number computing\n",
    "import tweepy          #to consume twitter's API\n",
    "\n",
    "\n",
    "#For plotting and visualization\n",
    "from IPython.display import display\n",
    "import matplotlib.pyplot as plt\n",
    "import seaborn as sns\n",
    "%matplotlib inline\n"
   ]
  },
  {
   "cell_type": "markdown",
   "metadata": {},
   "source": [
    "##Creating a Twitter App\n",
    "we need to access to our Twitter account and create an app. https://apps.twitter.com/\n",
    "   "
   ]
  },
  {
   "cell_type": "code",
   "execution_count": 2,
   "metadata": {},
   "outputs": [],
   "source": [
    "#Import  credentials.py to use twitter API\n",
    "#It should be python file (credentials.py)\n",
    "\n",
    "from credentials import *\n",
    "\n",
    "#API's setup\n",
    "def twitter_setup():\n",
    "    \"\"\"\n",
    "    Utility function to setup the Twitter's API\n",
    "    with our access keys provided.\n",
    "    \"\"\"\n",
    "    \n",
    "    #Authentication and access using keys:\n",
    "    auth = tweepy.OAuthHandler(consumer_key, consumer_secret)\n",
    "    auth.set_access_token(access_token, access_token_secret)\n",
    "    \n",
    "    #Return API with authentication:\n",
    "    api = tweepy.API(auth)\n",
    "    return api\n",
    "\n",
    "\n"
   ]
  },
  {
   "cell_type": "markdown",
   "metadata": {},
   "source": [
    "#Tweets extraction\n",
    "for extraction we will choose @modi"
   ]
  },
  {
   "cell_type": "code",
   "execution_count": 3,
   "metadata": {},
   "outputs": [
    {
     "name": "stdout",
     "output_type": "stream",
     "text": [
      "Number of tweets extracted: 98.\n",
      "\n",
      "5 recent tweets:\n",
      "\n",
      "RT @caricatured: #Cartoon #Modi #Silence https://t.co/Uibo4NC6C8\n",
      "RT @pkdhariwal: We want justice...... we want cbi enquiry........ #SSCExamScam #cbi4ssc #naukri_ke_dalal #sscscam #modi #RahulGandhi #Annah…\n",
      "RT @gopidas: Morons like this onr below is going to ensure #Modi 's downfall in 2019 https://t.co/m1xdVv7kOX\n",
      "RT @Shyam17: Deep Peep into d #caste curse in #HinduReligion &amp; its origin.#AdiSankara,#Harijan,#Girijan,#KanchaIlliah,#BJP,#Modi.https://t.…\n",
      "RT @Rababsworld: @lawliga @MaryamNSharif دیکھو #نواز_شریف کی کیا حالت ہے جب کہ وہ #modi کا اثاثہ تھا ہندوستان نے #نواز_شریف پر بہت انویسٹ ک…\n"
     ]
    }
   ],
   "source": [
    "#We create an extractor object:\n",
    "extractor = twitter_setup()\n",
    "\n",
    "#We create a tweet list as follows:\n",
    "tweets = extractor.user_timeline(screen_name = \"Samsung On7 Pro\", count = 150)\n",
    "print(\"Number of tweets extracted: {}.\\n\".format(len(tweets)))\n",
    "\n",
    "#we print the most recent 5 tweets:\n",
    "print(\"5 recent tweets:\\n\")\n",
    "for tweet in tweets[:5]:\n",
    "    print(tweet.text)\n"
   ]
  },
  {
   "cell_type": "code",
   "execution_count": 4,
   "metadata": {
    "scrolled": true
   },
   "outputs": [
    {
     "data": {
      "text/html": [
       "<div>\n",
       "<style scoped>\n",
       "    .dataframe tbody tr th:only-of-type {\n",
       "        vertical-align: middle;\n",
       "    }\n",
       "\n",
       "    .dataframe tbody tr th {\n",
       "        vertical-align: top;\n",
       "    }\n",
       "\n",
       "    .dataframe thead th {\n",
       "        text-align: right;\n",
       "    }\n",
       "</style>\n",
       "<table border=\"1\" class=\"dataframe\">\n",
       "  <thead>\n",
       "    <tr style=\"text-align: right;\">\n",
       "      <th></th>\n",
       "      <th>Tweets</th>\n",
       "    </tr>\n",
       "  </thead>\n",
       "  <tbody>\n",
       "    <tr>\n",
       "      <th>0</th>\n",
       "      <td>RT @caricatured: #Cartoon #Modi #Silence https...</td>\n",
       "    </tr>\n",
       "    <tr>\n",
       "      <th>1</th>\n",
       "      <td>RT @pkdhariwal: We want justice...... we want ...</td>\n",
       "    </tr>\n",
       "    <tr>\n",
       "      <th>2</th>\n",
       "      <td>RT @gopidas: Morons like this onr below is goi...</td>\n",
       "    </tr>\n",
       "    <tr>\n",
       "      <th>3</th>\n",
       "      <td>RT @Shyam17: Deep Peep into d #caste curse in ...</td>\n",
       "    </tr>\n",
       "    <tr>\n",
       "      <th>4</th>\n",
       "      <td>RT @Rababsworld: @lawliga @MaryamNSharif دیکھو...</td>\n",
       "    </tr>\n",
       "    <tr>\n",
       "      <th>5</th>\n",
       "      <td>RT @rajneesh350: #Modi जी ने कहा रात है,\\nटीवी...</td>\n",
       "    </tr>\n",
       "    <tr>\n",
       "      <th>6</th>\n",
       "      <td>RT @techactivein: डिजिटल इंडिया क्या है? इसका ...</td>\n",
       "    </tr>\n",
       "    <tr>\n",
       "      <th>7</th>\n",
       "      <td>RT @rahulkrrao: डिजिटल इंडिया क्या है? इसका क्...</td>\n",
       "    </tr>\n",
       "    <tr>\n",
       "      <th>8</th>\n",
       "      <td>RT @trollsangh: തുറിച്ചു നോക്കണ്ട \\nഎഴുതാത്ത പ...</td>\n",
       "    </tr>\n",
       "    <tr>\n",
       "      <th>9</th>\n",
       "      <td>RT @Arunthakurs: #Delhi  \\nबड़ा घर नहीं लेंगे ...</td>\n",
       "    </tr>\n",
       "  </tbody>\n",
       "</table>\n",
       "</div>"
      ],
      "text/plain": [
       "                                              Tweets\n",
       "0  RT @caricatured: #Cartoon #Modi #Silence https...\n",
       "1  RT @pkdhariwal: We want justice...... we want ...\n",
       "2  RT @gopidas: Morons like this onr below is goi...\n",
       "3  RT @Shyam17: Deep Peep into d #caste curse in ...\n",
       "4  RT @Rababsworld: @lawliga @MaryamNSharif دیکھو...\n",
       "5  RT @rajneesh350: #Modi जी ने कहा रात है,\\nटीवी...\n",
       "6  RT @techactivein: डिजिटल इंडिया क्या है? इसका ...\n",
       "7  RT @rahulkrrao: डिजिटल इंडिया क्या है? इसका क्...\n",
       "8  RT @trollsangh: തുറിച്ചു നോക്കണ്ട \\nഎഴുതാത്ത പ...\n",
       "9  RT @Arunthakurs: #Delhi  \\nबड़ा घर नहीं लेंगे ..."
      ]
     },
     "metadata": {},
     "output_type": "display_data"
    }
   ],
   "source": [
    "#Creating a (pandas) DataFrame\n",
    "# We create a pandas dataframe as follows:\n",
    "data = pd.DataFrame(data=[tweet.text for tweet in tweets], columns=['Tweets'])\n",
    "\n",
    "# We display the first 10 elements of the dataframe:\n",
    "display(data.head(10))"
   ]
  },
  {
   "cell_type": "code",
   "execution_count": 5,
   "metadata": {
    "scrolled": true
   },
   "outputs": [
    {
     "name": "stdout",
     "output_type": "stream",
     "text": [
      "['__class__', '__delattr__', '__dict__', '__dir__', '__doc__', '__eq__', '__format__', '__ge__', '__getattribute__', '__getstate__', '__gt__', '__hash__', '__init__', '__init_subclass__', '__le__', '__lt__', '__module__', '__ne__', '__new__', '__reduce__', '__reduce_ex__', '__repr__', '__setattr__', '__sizeof__', '__str__', '__subclasshook__', '__weakref__', '_api', '_json', 'author', 'contributors', 'coordinates', 'created_at', 'destroy', 'entities', 'extended_entities', 'favorite', 'favorite_count', 'favorited', 'geo', 'id', 'id_str', 'in_reply_to_screen_name', 'in_reply_to_status_id', 'in_reply_to_status_id_str', 'in_reply_to_user_id', 'in_reply_to_user_id_str', 'is_quote_status', 'lang', 'parse', 'parse_list', 'place', 'possibly_sensitive', 'retweet', 'retweet_count', 'retweeted', 'retweeted_status', 'retweets', 'source', 'source_url', 'text', 'truncated', 'user']\n"
     ]
    }
   ],
   "source": [
    "# Internal methods of a single tweet object:\n",
    "print(dir(tweets[0]))"
   ]
  },
  {
   "cell_type": "markdown",
   "metadata": {},
   "source": [
    "The interesting part from here is the quantity of metadata contained in a single tweet. If we want to obtain data such as the creation date, or the source of creation, we can access the info with this attributes. An example is the following:"
   ]
  },
  {
   "cell_type": "code",
   "execution_count": 6,
   "metadata": {},
   "outputs": [
    {
     "name": "stdout",
     "output_type": "stream",
     "text": [
      "969903862491463680\n",
      "2018-03-03 11:54:35\n",
      "FunwithTechnology\n",
      "0\n",
      "806\n",
      "None\n",
      "None\n",
      "{'hashtags': [{'text': 'Cartoon', 'indices': [17, 25]}, {'text': 'Modi', 'indices': [26, 31]}, {'text': 'Silence', 'indices': [32, 40]}], 'symbols': [], 'user_mentions': [{'screen_name': 'caricatured', 'name': 'alok nirantar', 'id': 62080004, 'id_str': '62080004', 'indices': [3, 15]}], 'urls': [], 'media': [{'id': 965860603796557825, 'id_str': '965860603796557825', 'indices': [41, 64], 'media_url': 'http://pbs.twimg.com/media/DWdtGg_WkAEXukU.jpg', 'media_url_https': 'https://pbs.twimg.com/media/DWdtGg_WkAEXukU.jpg', 'url': 'https://t.co/Uibo4NC6C8', 'display_url': 'pic.twitter.com/Uibo4NC6C8', 'expanded_url': 'https://twitter.com/caricatured/status/965860754262863872/photo/1', 'type': 'photo', 'sizes': {'thumb': {'w': 150, 'h': 150, 'resize': 'crop'}, 'large': {'w': 2048, 'h': 1446, 'resize': 'fit'}, 'medium': {'w': 1200, 'h': 848, 'resize': 'fit'}, 'small': {'w': 680, 'h': 480, 'resize': 'fit'}}, 'source_status_id': 965860754262863872, 'source_status_id_str': '965860754262863872', 'source_user_id': 62080004, 'source_user_id_str': '62080004'}]}\n"
     ]
    }
   ],
   "source": [
    "# We print info from the first tweet:\n",
    "print(tweets[0].id)\n",
    "print(tweets[0].created_at)\n",
    "print(tweets[0].source)\n",
    "print(tweets[0].favorite_count)\n",
    "print(tweets[0].retweet_count)\n",
    "print(tweets[0].geo)\n",
    "print(tweets[0].coordinates)\n",
    "print(tweets[0].entities)"
   ]
  },
  {
   "cell_type": "markdown",
   "metadata": {},
   "source": [
    "# Adding relevant info to our dataframe\n",
    "As we can see, we can obtain a lot of data from a single tweet. But not all this data is always useful for specific stuff. In our case we well just add some data to our dataframe. "
   ]
  },
  {
   "cell_type": "code",
   "execution_count": 7,
   "metadata": {},
   "outputs": [],
   "source": [
    "# We add relevant data:\n",
    "data['len']  = np.array([len(tweet.text) for tweet in tweets])\n",
    "data['ID']   = np.array([tweet.id for tweet in tweets])\n",
    "data['Date'] = np.array([tweet.created_at for tweet in tweets])\n",
    "data['Source'] = np.array([tweet.source for tweet in tweets])\n",
    "data['Likes']  = np.array([tweet.favorite_count for tweet in tweets])\n",
    "data['RTs']    = np.array([tweet.retweet_count for tweet in tweets])"
   ]
  },
  {
   "cell_type": "code",
   "execution_count": 8,
   "metadata": {},
   "outputs": [
    {
     "data": {
      "text/html": [
       "<div>\n",
       "<style scoped>\n",
       "    .dataframe tbody tr th:only-of-type {\n",
       "        vertical-align: middle;\n",
       "    }\n",
       "\n",
       "    .dataframe tbody tr th {\n",
       "        vertical-align: top;\n",
       "    }\n",
       "\n",
       "    .dataframe thead th {\n",
       "        text-align: right;\n",
       "    }\n",
       "</style>\n",
       "<table border=\"1\" class=\"dataframe\">\n",
       "  <thead>\n",
       "    <tr style=\"text-align: right;\">\n",
       "      <th></th>\n",
       "      <th>Tweets</th>\n",
       "      <th>len</th>\n",
       "      <th>ID</th>\n",
       "      <th>Date</th>\n",
       "      <th>Source</th>\n",
       "      <th>Likes</th>\n",
       "      <th>RTs</th>\n",
       "    </tr>\n",
       "  </thead>\n",
       "  <tbody>\n",
       "    <tr>\n",
       "      <th>0</th>\n",
       "      <td>RT @caricatured: #Cartoon #Modi #Silence https...</td>\n",
       "      <td>64</td>\n",
       "      <td>969903862491463680</td>\n",
       "      <td>2018-03-03 11:54:35</td>\n",
       "      <td>FunwithTechnology</td>\n",
       "      <td>0</td>\n",
       "      <td>806</td>\n",
       "    </tr>\n",
       "    <tr>\n",
       "      <th>1</th>\n",
       "      <td>RT @pkdhariwal: We want justice...... we want ...</td>\n",
       "      <td>140</td>\n",
       "      <td>969903594567643136</td>\n",
       "      <td>2018-03-03 11:53:31</td>\n",
       "      <td>FunwithTechnology</td>\n",
       "      <td>0</td>\n",
       "      <td>15</td>\n",
       "    </tr>\n",
       "    <tr>\n",
       "      <th>2</th>\n",
       "      <td>RT @gopidas: Morons like this onr below is goi...</td>\n",
       "      <td>108</td>\n",
       "      <td>969903457011290112</td>\n",
       "      <td>2018-03-03 11:52:58</td>\n",
       "      <td>FunwithTechnology</td>\n",
       "      <td>0</td>\n",
       "      <td>1</td>\n",
       "    </tr>\n",
       "    <tr>\n",
       "      <th>3</th>\n",
       "      <td>RT @Shyam17: Deep Peep into d #caste curse in ...</td>\n",
       "      <td>144</td>\n",
       "      <td>969903428594933765</td>\n",
       "      <td>2018-03-03 11:52:51</td>\n",
       "      <td>FunwithTechnology</td>\n",
       "      <td>0</td>\n",
       "      <td>1</td>\n",
       "    </tr>\n",
       "  </tbody>\n",
       "</table>\n",
       "</div>"
      ],
      "text/plain": [
       "                                              Tweets  len                  ID  \\\n",
       "0  RT @caricatured: #Cartoon #Modi #Silence https...   64  969903862491463680   \n",
       "1  RT @pkdhariwal: We want justice...... we want ...  140  969903594567643136   \n",
       "2  RT @gopidas: Morons like this onr below is goi...  108  969903457011290112   \n",
       "3  RT @Shyam17: Deep Peep into d #caste curse in ...  144  969903428594933765   \n",
       "\n",
       "                 Date             Source  Likes  RTs  \n",
       "0 2018-03-03 11:54:35  FunwithTechnology      0  806  \n",
       "1 2018-03-03 11:53:31  FunwithTechnology      0   15  \n",
       "2 2018-03-03 11:52:58  FunwithTechnology      0    1  \n",
       "3 2018-03-03 11:52:51  FunwithTechnology      0    1  "
      ]
     },
     "metadata": {},
     "output_type": "display_data"
    }
   ],
   "source": [
    "# Display of first 10 elements from dataframe:\n",
    "display(data.head(4))"
   ]
  },
  {
   "cell_type": "markdown",
   "metadata": {},
   "source": [
    "Now that we have extracted and have the data in a easy-to-handle ordered way, we're ready to do a bit more of manipulation to visualize some plots and gather some statistical data. The first part of the post is done."
   ]
  },
  {
   "cell_type": "markdown",
   "metadata": {},
   "source": [
    "#Visualization and basic statistics\n",
    "#Average and popularity\n",
    "We first want to calculate some basic statistical data, such as the mean of the length of characters of all tweets, the tweet with more likes and retweets, etc."
   ]
  },
  {
   "cell_type": "code",
   "execution_count": 9,
   "metadata": {},
   "outputs": [
    {
     "name": "stdout",
     "output_type": "stream",
     "text": [
      "The length's average in tweets: {} 119.12244897959184\n"
     ]
    }
   ],
   "source": [
    "#We extract the mean of lengths:\n",
    "mean = np.mean(data['len'])\n",
    "\n",
    "print(\"The length's average in tweets: {}\", format(mean))\n",
    "\n"
   ]
  },
  {
   "cell_type": "markdown",
   "metadata": {},
   "source": [
    "#To extract more data, we will use some pandas' functionalities:"
   ]
  },
  {
   "cell_type": "code",
   "execution_count": 10,
   "metadata": {},
   "outputs": [
    {
     "name": "stdout",
     "output_type": "stream",
     "text": [
      "The tweet with more likes is: \n",
      "Fun, simple way to get Free Talktime. Check out  https://t.co/PxUFVaEURb via @Laaptu_com\n",
      "Number of likes: 1\n",
      "88 characters.\n",
      "\n",
      "The tweet with more retweets is: \n",
      "RT @caricatured: #Cartoon #Modi #Silence https://t.co/Uibo4NC6C8\n",
      "Number of retweets: 806\n",
      "64 characters.\n",
      "\n"
     ]
    }
   ],
   "source": [
    "#we extract the tweet with more FAVs and more RTs:\n",
    "\n",
    "fav_max = np.max(data['Likes'])\n",
    "rt_max = np.max(data['RTs'])\n",
    "\n",
    "fav = data[data.Likes == fav_max].index[0]\n",
    "rt = data[data.RTs == rt_max].index[0]\n",
    "\n",
    "#max FAVs:\n",
    "print(\"The tweet with more likes is: \\n{}\".format(data['Tweets'][fav]))\n",
    "print(\"Number of likes: {}\".format(fav_max))\n",
    "print(\"{} characters.\\n\".format(data['len'][fav]))\n",
    "\n",
    "# Max RTs:\n",
    "print(\"The tweet with more retweets is: \\n{}\".format(data['Tweets'][rt]))\n",
    "print(\"Number of retweets: {}\".format(rt_max))\n",
    "print(\"{} characters.\\n\".format(data['len'][rt]))\n",
    "\n",
    "\n",
    "\n"
   ]
  },
  {
   "cell_type": "markdown",
   "metadata": {},
   "source": [
    "#Time Series\n",
    "Pandas has its own object for time series. Since we have a whole vector with creation dates, we can construct time series respect tweets lengths, likes and retweets."
   ]
  },
  {
   "cell_type": "code",
   "execution_count": 11,
   "metadata": {},
   "outputs": [],
   "source": [
    "#We create time series for data:\n",
    "tlen = pd.Series(data = data['len'].values, index = data['Date'])\n",
    "tfav = pd.Series(data = data['Likes'].values, index = data['Date'])\n",
    "tret = pd.Series(data = data['RTs'].values, index = data['Date'])\n"
   ]
  },
  {
   "cell_type": "code",
   "execution_count": 12,
   "metadata": {},
   "outputs": [
    {
     "data": {
      "text/plain": [
       "<matplotlib.axes._subplots.AxesSubplot at 0x7fd345cb9710>"
      ]
     },
     "execution_count": 12,
     "metadata": {},
     "output_type": "execute_result"
    },
    {
     "data": {
      "image/png": "[encoded data removed]",
      "text/plain": [
       "<matplotlib.figure.Figure at 0x7fd3466fb7b8>"
      ]
     },
     "metadata": {},
     "output_type": "display_data"
    }
   ],
   "source": [
    "#lets plot the time series\n",
    "tlen.plot(figsize = (16,4), color = 'r')"
   ]
  },
  {
   "cell_type": "code",
   "execution_count": 13,
   "metadata": {},
   "outputs": [
    {
     "data": {
      "image/png": "[encoded data removed]",
      "text/plain": [
       "<matplotlib.figure.Figure at 0x7fd33d6cae48>"
      ]
     },
     "metadata": {},
     "output_type": "display_data"
    }
   ],
   "source": [
    "#Like Vs retweets visualization:\n",
    "tfav.plot(figsize = (16,4), label = \"Likes\", legend = True)\n",
    "tret.plot(figsize = (16,4), label = \"Retweets\", legend = True);  \n"
   ]
  },
  {
   "cell_type": "code",
   "execution_count": 14,
   "metadata": {},
   "outputs": [
    {
     "data": {
      "text/plain": [
       "<matplotlib.axes._subplots.AxesSubplot at 0x7fd33d6574a8>"
      ]
     },
     "execution_count": 14,
     "metadata": {},
     "output_type": "execute_result"
    },
    {
     "data": {
      "image/png": "[encoded data removed]",
      "text/plain": [
       "<matplotlib.figure.Figure at 0x7fd33d66f080>"
      ]
     },
     "metadata": {},
     "output_type": "display_data"
    }
   ],
   "source": [
    "#this is India meri jaan, yaha twitter pe Likes se jada Retweets hote hai, \n",
    "#So we will do seperate visualization\n",
    "tfav.plot(figsize = (16, 4), color ='b')\n"
   ]
  },
  {
   "cell_type": "code",
   "execution_count": 15,
   "metadata": {
    "scrolled": true
   },
   "outputs": [
    {
     "data": {
      "text/plain": [
       "<matplotlib.axes._subplots.AxesSubplot at 0x7fd33d5f8c18>"
      ]
     },
     "execution_count": 15,
     "metadata": {},
     "output_type": "execute_result"
    },
    {
     "data": {
      "image/png": "[encoded data removed]",
      "text/plain": [
       "<matplotlib.figure.Figure at 0x7fd33d6357f0>"
      ]
     },
     "metadata": {},
     "output_type": "display_data"
    }
   ],
   "source": [
    "tret.plot(figsize = (16,4), color = 'r')"
   ]
  },
  {
   "cell_type": "markdown",
   "metadata": {},
   "source": [
    "Observation: some of the tweets has very high popularity for likes and Retweets."
   ]
  },
  {
   "cell_type": "markdown",
   "metadata": {},
   "source": [
    "#Pie charts of sources\n",
    "Now we will plot the sources in a pie chart, since we realized that not every tweet is tweeted from the same source (😱🤔). We first clean all the sources:"
   ]
  },
  {
   "cell_type": "code",
   "execution_count": 16,
   "metadata": {
    "scrolled": true
   },
   "outputs": [
    {
     "name": "stdout",
     "output_type": "stream",
     "text": [
      "Creation of content sources:\n",
      "* Twitter for Android 0\n",
      "* FunwithTechnology 96\n",
      "* Twitter Web Client 1\n",
      "* Twitter for Websites 1\n"
     ]
    }
   ],
   "source": [
    "#We obtain all possible sources and how many times it used:\n",
    "sources = {\"Twitter for Android\" : 0}\n",
    "for source in data['Source']:\n",
    "    if source in sources:\n",
    "        sources[source] += 1\n",
    "    else:\n",
    "        sources[source] = 1\n",
    "\n",
    "#We print sources list:\n",
    "print(\"Creation of content sources:\")\n",
    "for source in sources:\n",
    "    print(\"* {}\".format(source),sources[source])\n",
    "    "
   ]
  },
  {
   "cell_type": "code",
   "execution_count": 17,
   "metadata": {},
   "outputs": [
    {
     "data": {
      "text/plain": [
       "([<matplotlib.patches.Wedge at 0x7fd33d5bc3c8>,\n",
       "  <matplotlib.patches.Wedge at 0x7fd33d5bcac8>,\n",
       "  <matplotlib.patches.Wedge at 0x7fd33d545240>,\n",
       "  <matplotlib.patches.Wedge at 0x7fd33d5459e8>],\n",
       " [Text(6.73556e-17,1.1,'Twitter for Android'),\n",
       "  Text(-0.0704772,-1.09774,'FunwithTechnology'),\n",
       "  Text(0.105625,1.09492,'Twitter Web Client'),\n",
       "  Text(0.0352567,1.09943,'Twitter for Websites')],\n",
       " [Text(3.67394e-17,0.6,'0.00'),\n",
       "  Text(-0.0384421,-0.598767,'97.96'),\n",
       "  Text(0.0576138,0.597227,'1.02'),\n",
       "  Text(0.0192309,0.599692,'1.02')])"
      ]
     },
     "execution_count": 17,
     "metadata": {},
     "output_type": "execute_result"
    },
    {
     "data": {
      "image/png": "[encoded data removed]",
      "text/plain": [
       "<matplotlib.figure.Figure at 0x7fd33d657208>"
      ]
     },
     "metadata": {},
     "output_type": "display_data"
    }
   ],
   "source": [
    "#pie chart:\n",
    "figureObject, axesObject = plt.subplots()\n",
    "\n",
    "\n",
    "# Draw the pie chart\n",
    "\n",
    "axesObject.pie(list(sources.values()),\n",
    "\n",
    "        labels= list(sources.keys()),\n",
    "\n",
    "        autopct='%1.2f',\n",
    "\n",
    "        startangle= 90)"
   ]
  },
  {
   "cell_type": "markdown",
   "metadata": {},
   "source": [
    "# Sentiment analysis"
   ]
  },
  {
   "cell_type": "markdown",
   "metadata": {},
   "source": [
    "# Importing textblob\n",
    "textblob will allow us to do sentiment analysis in a very simple way. We will also use the re library from Python, which is used to work with regular expressions. For this, I'll provide you two utility functions to: a) clean text (which means that any symbol distinct to an alphanumeric value will be remapped into a new one that satisfies this condition), and b) create a classifier to analyze the polarity of each tweet after cleaning the text in it. "
   ]
  },
  {
   "cell_type": "code",
   "execution_count": 18,
   "metadata": {},
   "outputs": [],
   "source": [
    "from textblob import TextBlob\n",
    "import re\n",
    "\n",
    "def clean_tweet(tweet):\n",
    "    \"\"\"\n",
    "    Utility function to clean the text in a tweet by\n",
    "    removing links and special characters using regex.\n",
    "    \"\"\"\n",
    "    \n",
    "    return ' '.join(re.sub(\"(@[A-Za-z0-9]+)|([^0-9A-Za-z \\t])|(\\w+:\\/\\/\\s+)\", \" \", tweet).split())\n",
    "\n",
    "def analize_sentiment(tweet):\n",
    "    \"\"\"\n",
    "    Utility function to classify the polarity of a tweet\n",
    "    using textblob.\n",
    "    \"\"\"\n",
    "    analysis = TextBlob(clean_tweet(tweet))\n",
    "    if analysis.sentiment.polarity > 0:\n",
    "        return 1\n",
    "    elif analysis.sentiment.polarity == 0:\n",
    "        return 0\n",
    "    else:\n",
    "        return -1\n",
    "    \n",
    "\n",
    "    \n",
    "    "
   ]
  },
  {
   "cell_type": "markdown",
   "metadata": {},
   "source": [
    "The way it works is that textblob already provides a trained analyzer (cool, right?). Textblob can work with different machine learning models used in natural language processing. "
   ]
  },
  {
   "cell_type": "code",
   "execution_count": 19,
   "metadata": {},
   "outputs": [
    {
     "data": {
      "text/html": [
       "<div>\n",
       "<style scoped>\n",
       "    .dataframe tbody tr th:only-of-type {\n",
       "        vertical-align: middle;\n",
       "    }\n",
       "\n",
       "    .dataframe tbody tr th {\n",
       "        vertical-align: top;\n",
       "    }\n",
       "\n",
       "    .dataframe thead th {\n",
       "        text-align: right;\n",
       "    }\n",
       "</style>\n",
       "<table border=\"1\" class=\"dataframe\">\n",
       "  <thead>\n",
       "    <tr style=\"text-align: right;\">\n",
       "      <th></th>\n",
       "      <th>Tweets</th>\n",
       "      <th>len</th>\n",
       "      <th>ID</th>\n",
       "      <th>Date</th>\n",
       "      <th>Source</th>\n",
       "      <th>Likes</th>\n",
       "      <th>RTs</th>\n",
       "      <th>SA</th>\n",
       "    </tr>\n",
       "  </thead>\n",
       "  <tbody>\n",
       "    <tr>\n",
       "      <th>0</th>\n",
       "      <td>RT @caricatured: #Cartoon #Modi #Silence https...</td>\n",
       "      <td>64</td>\n",
       "      <td>969903862491463680</td>\n",
       "      <td>2018-03-03 11:54:35</td>\n",
       "      <td>FunwithTechnology</td>\n",
       "      <td>0</td>\n",
       "      <td>806</td>\n",
       "      <td>0</td>\n",
       "    </tr>\n",
       "    <tr>\n",
       "      <th>1</th>\n",
       "      <td>RT @pkdhariwal: We want justice...... we want ...</td>\n",
       "      <td>140</td>\n",
       "      <td>969903594567643136</td>\n",
       "      <td>2018-03-03 11:53:31</td>\n",
       "      <td>FunwithTechnology</td>\n",
       "      <td>0</td>\n",
       "      <td>15</td>\n",
       "      <td>0</td>\n",
       "    </tr>\n",
       "    <tr>\n",
       "      <th>2</th>\n",
       "      <td>RT @gopidas: Morons like this onr below is goi...</td>\n",
       "      <td>108</td>\n",
       "      <td>969903457011290112</td>\n",
       "      <td>2018-03-03 11:52:58</td>\n",
       "      <td>FunwithTechnology</td>\n",
       "      <td>0</td>\n",
       "      <td>1</td>\n",
       "      <td>-1</td>\n",
       "    </tr>\n",
       "    <tr>\n",
       "      <th>3</th>\n",
       "      <td>RT @Shyam17: Deep Peep into d #caste curse in ...</td>\n",
       "      <td>144</td>\n",
       "      <td>969903428594933765</td>\n",
       "      <td>2018-03-03 11:52:51</td>\n",
       "      <td>FunwithTechnology</td>\n",
       "      <td>0</td>\n",
       "      <td>1</td>\n",
       "      <td>0</td>\n",
       "    </tr>\n",
       "    <tr>\n",
       "      <th>4</th>\n",
       "      <td>RT @Rababsworld: @lawliga @MaryamNSharif دیکھو...</td>\n",
       "      <td>140</td>\n",
       "      <td>969903320897765376</td>\n",
       "      <td>2018-03-03 11:52:26</td>\n",
       "      <td>FunwithTechnology</td>\n",
       "      <td>0</td>\n",
       "      <td>1</td>\n",
       "      <td>0</td>\n",
       "    </tr>\n",
       "    <tr>\n",
       "      <th>5</th>\n",
       "      <td>RT @rajneesh350: #Modi जी ने कहा रात है,\\nटीवी...</td>\n",
       "      <td>140</td>\n",
       "      <td>969903263410630656</td>\n",
       "      <td>2018-03-03 11:52:12</td>\n",
       "      <td>FunwithTechnology</td>\n",
       "      <td>0</td>\n",
       "      <td>96</td>\n",
       "      <td>0</td>\n",
       "    </tr>\n",
       "    <tr>\n",
       "      <th>6</th>\n",
       "      <td>RT @techactivein: डिजिटल इंडिया क्या है? इसका ...</td>\n",
       "      <td>121</td>\n",
       "      <td>969903153616318464</td>\n",
       "      <td>2018-03-03 11:51:46</td>\n",
       "      <td>FunwithTechnology</td>\n",
       "      <td>0</td>\n",
       "      <td>1</td>\n",
       "      <td>0</td>\n",
       "    </tr>\n",
       "    <tr>\n",
       "      <th>7</th>\n",
       "      <td>RT @rahulkrrao: डिजिटल इंडिया क्या है? इसका क्...</td>\n",
       "      <td>119</td>\n",
       "      <td>969903124646260737</td>\n",
       "      <td>2018-03-03 11:51:39</td>\n",
       "      <td>FunwithTechnology</td>\n",
       "      <td>0</td>\n",
       "      <td>1</td>\n",
       "      <td>0</td>\n",
       "    </tr>\n",
       "    <tr>\n",
       "      <th>8</th>\n",
       "      <td>RT @trollsangh: തുറിച്ചു നോക്കണ്ട \\nഎഴുതാത്ത പ...</td>\n",
       "      <td>140</td>\n",
       "      <td>969903043905908736</td>\n",
       "      <td>2018-03-03 11:51:20</td>\n",
       "      <td>FunwithTechnology</td>\n",
       "      <td>0</td>\n",
       "      <td>9</td>\n",
       "      <td>0</td>\n",
       "    </tr>\n",
       "    <tr>\n",
       "      <th>9</th>\n",
       "      <td>RT @Arunthakurs: #Delhi  \\nबड़ा घर नहीं लेंगे ...</td>\n",
       "      <td>140</td>\n",
       "      <td>969902960263118848</td>\n",
       "      <td>2018-03-03 11:51:00</td>\n",
       "      <td>FunwithTechnology</td>\n",
       "      <td>0</td>\n",
       "      <td>2</td>\n",
       "      <td>0</td>\n",
       "    </tr>\n",
       "  </tbody>\n",
       "</table>\n",
       "</div>"
      ],
      "text/plain": [
       "                                              Tweets  len                  ID  \\\n",
       "0  RT @caricatured: #Cartoon #Modi #Silence https...   64  969903862491463680   \n",
       "1  RT @pkdhariwal: We want justice...... we want ...  140  969903594567643136   \n",
       "2  RT @gopidas: Morons like this onr below is goi...  108  969903457011290112   \n",
       "3  RT @Shyam17: Deep Peep into d #caste curse in ...  144  969903428594933765   \n",
       "4  RT @Rababsworld: @lawliga @MaryamNSharif دیکھو...  140  969903320897765376   \n",
       "5  RT @rajneesh350: #Modi जी ने कहा रात है,\\nटीवी...  140  969903263410630656   \n",
       "6  RT @techactivein: डिजिटल इंडिया क्या है? इसका ...  121  969903153616318464   \n",
       "7  RT @rahulkrrao: डिजिटल इंडिया क्या है? इसका क्...  119  969903124646260737   \n",
       "8  RT @trollsangh: തുറിച്ചു നോക്കണ്ട \\nഎഴുതാത്ത പ...  140  969903043905908736   \n",
       "9  RT @Arunthakurs: #Delhi  \\nबड़ा घर नहीं लेंगे ...  140  969902960263118848   \n",
       "\n",
       "                 Date             Source  Likes  RTs  SA  \n",
       "0 2018-03-03 11:54:35  FunwithTechnology      0  806   0  \n",
       "1 2018-03-03 11:53:31  FunwithTechnology      0   15   0  \n",
       "2 2018-03-03 11:52:58  FunwithTechnology      0    1  -1  \n",
       "3 2018-03-03 11:52:51  FunwithTechnology      0    1   0  \n",
       "4 2018-03-03 11:52:26  FunwithTechnology      0    1   0  \n",
       "5 2018-03-03 11:52:12  FunwithTechnology      0   96   0  \n",
       "6 2018-03-03 11:51:46  FunwithTechnology      0    1   0  \n",
       "7 2018-03-03 11:51:39  FunwithTechnology      0    1   0  \n",
       "8 2018-03-03 11:51:20  FunwithTechnology      0    9   0  \n",
       "9 2018-03-03 11:51:00  FunwithTechnology      0    2   0  "
      ]
     },
     "metadata": {},
     "output_type": "display_data"
    }
   ],
   "source": [
    "#We create a column with the result of the analysis:\n",
    "data['SA'] = np.array([ analize_sentiment(tweet) for tweet in data['Tweets']])\n",
    "\n",
    "#We display the updated dataframe with the new column:\n",
    "display(data.head(10))"
   ]
  },
  {
   "cell_type": "code",
   "execution_count": 20,
   "metadata": {},
   "outputs": [],
   "source": [
    "# We construct lists with classified tweets:\n",
    "\n",
    "pos_tweets = [ tweet for index, tweet in enumerate(data['Tweets']) if data['SA'][index] > 0]\n",
    "neu_tweets = [ tweet for index, tweet in enumerate(data['Tweets']) if data['SA'][index] == 0]\n",
    "neg_tweets = [ tweet for index, tweet in enumerate(data['Tweets']) if data['SA'][index] < 0]"
   ]
  },
  {
   "cell_type": "code",
   "execution_count": 21,
   "metadata": {},
   "outputs": [
    {
     "name": "stdout",
     "output_type": "stream",
     "text": [
      "Percentage of positive tweets: 26.53061224489796%\n",
      "Percentage of neutral tweets: 64.28571428571429%\n",
      "Percentage de negative tweets: 9.183673469387756%\n"
     ]
    }
   ],
   "source": [
    "# We print percentages:\n",
    "\n",
    "print(\"Percentage of positive tweets: {}%\".format(len(pos_tweets)*100/len(data['Tweets'])))\n",
    "print(\"Percentage of neutral tweets: {}%\".format(len(neu_tweets)*100/len(data['Tweets'])))\n",
    "print(\"Percentage de negative tweets: {}%\".format(len(neg_tweets)*100/len(data['Tweets'])))"
   ]
  },
  {
   "cell_type": "code",
   "execution_count": null,
   "metadata": {},
   "outputs": [],
   "source": []
  }
 ],
 "metadata": {
  "kernelspec": {
   "display_name": "Python 3",
   "language": "python",
   "name": "python3"
  },
  "language_info": {
   "codemirror_mode": {
    "name": "ipython",
    "version": 3
   },
   "file_extension": ".py",
   "mimetype": "text/x-python",
   "name": "python",
   "nbconvert_exporter": "python",
   "pygments_lexer": "ipython3",
   "version": "3.6.4"
  }
 },
 "nbformat": 4,
 "nbformat_minor": 2
}
